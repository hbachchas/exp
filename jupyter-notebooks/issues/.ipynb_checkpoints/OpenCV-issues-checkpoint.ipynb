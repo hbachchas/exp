{
 "cells": [
  {
   "cell_type": "code",
   "execution_count": null,
   "metadata": {},
   "outputs": [],
   "source": [
    "# cv2.waitKey(0) crash | window display crash | cv2.imshow() crash\n",
    "\n",
    "import cv2\n",
    "img = cv2.imread('/home/himanshu/Pictures/1.jpg')\n",
    "cv2.imshow(\"Image 1\", img)\n",
    "cv2.waitKey(0)    # the windows won't close and jupyter kernel will crash on force close\n",
    "\n",
    "# solution (uncomment following line)\n",
    "# cv2.destroyAllWindows()    # add this after cv2.waitKey(0)"
   ]
  }
 ],
 "metadata": {
  "kernelspec": {
   "display_name": "Python 3",
   "language": "python",
   "name": "python3"
  },
  "language_info": {
   "codemirror_mode": {
    "name": "ipython",
    "version": 3
   },
   "file_extension": ".py",
   "mimetype": "text/x-python",
   "name": "python",
   "nbconvert_exporter": "python",
   "pygments_lexer": "ipython3",
   "version": "3.5.6"
  }
 },
 "nbformat": 4,
 "nbformat_minor": 2
}
