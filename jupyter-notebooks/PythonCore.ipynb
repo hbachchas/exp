{
 "cells": [
  {
   "cell_type": "code",
   "execution_count": 1,
   "metadata": {},
   "outputs": [],
   "source": [
    "# on dictionaries"
   ]
  },
  {
   "cell_type": "code",
   "execution_count": 2,
   "metadata": {},
   "outputs": [
    {
     "name": "stdout",
     "output_type": "stream",
     "text": [
      "<class 'str'>\n"
     ]
    }
   ],
   "source": [
    "str = \"asdfasf\"\n",
    "print (type(str))"
   ]
  },
  {
   "cell_type": "code",
   "execution_count": 5,
   "metadata": {},
   "outputs": [
    {
     "name": "stdout",
     "output_type": "stream",
     "text": [
      "<class 'dict'>\n"
     ]
    }
   ],
   "source": [
    "data = {}\n",
    "data[1] = ['one']\n",
    "data[2] = ['two']\n",
    "data[3] = ['three']\n",
    "data[4] = ['four']\n",
    "print (type (data))"
   ]
  },
  {
   "cell_type": "code",
   "execution_count": 7,
   "metadata": {},
   "outputs": [
    {
     "name": "stdout",
     "output_type": "stream",
     "text": [
      "{1: ['one'], 2: ['two'], 3: ['three'], 4: ['four']}\n",
      "4\n"
     ]
    }
   ],
   "source": [
    "print (data)\n",
    "print (len (data))"
   ]
  },
  {
   "cell_type": "code",
   "execution_count": 9,
   "metadata": {},
   "outputs": [
    {
     "name": "stdout",
     "output_type": "stream",
     "text": [
      "{'one': [{'c': 'ccc', 'a': 'aaa', 'b': 'bbb'}]}\n"
     ]
    }
   ],
   "source": [
    "dod = {}\n",
    "dod['one']=[{'a':'aaa', 'b':'bbb', 'c':'ccc'}]\n",
    "print (dod)"
   ]
  },
  {
   "cell_type": "code",
   "execution_count": 10,
   "metadata": {},
   "outputs": [
    {
     "name": "stdout",
     "output_type": "stream",
     "text": [
      "{'one': [{'a': 'aaa'}]}\n"
     ]
    }
   ],
   "source": [
    "dod2 = {}\n",
    "dod2['one']=[{'a':'aaa'}]\n",
    "print (dod2)"
   ]
  },
  {
   "cell_type": "code",
   "execution_count": null,
   "metadata": {},
   "outputs": [],
   "source": [
    "# on list indexing\n",
    "\n",
    "# if no index is specified: it means that the extreme one\n",
    "# for -ve index: add it to the positive max and then take that value on that place. for example look below\n",
    "# tl = [1, 2, 3, 4]\n",
    "# tl[-3] == tl[4-3] == tl[1]\n",
    "# tl[-1] == tl[4-1] == tl[3]\n",
    "# tl[-4] == tl[4-4] == tl[4]\n",
    "# tl[ :-3] == tl[ :4-3] == tl[ :1] == tl[0:1]"
   ]
  },
  {
   "cell_type": "code",
   "execution_count": 10,
   "metadata": {},
   "outputs": [
    {
     "name": "stdout",
     "output_type": "stream",
     "text": [
      "1\n",
      "4\n",
      "[1, 2, 3, 4]\n",
      "[1, 2, 3, 4]\n",
      "[1, 2, 3, 4]\n",
      "[1, 2, 3]\n",
      "[1, 2]\n",
      "1\n",
      "4\n"
     ]
    }
   ],
   "source": [
    "tl = [1, 2, 3, 4]\n",
    "print (tl[0])\n",
    "print (tl[-1])\n",
    "print (tl[0:4])\n",
    "print (tl[0: ])\n",
    "print (tl[ : ])\n",
    "print (tl[ :3])\n",
    "print (tl[ :-2])\n",
    "print (tl[-4])\n",
    "print (len(tl))"
   ]
  },
  {
   "cell_type": "code",
   "execution_count": 2,
   "metadata": {},
   "outputs": [
    {
     "name": "stdout",
     "output_type": "stream",
     "text": [
      "[]\n",
      "[[0, 8, 4]]\n",
      "[[0, 8, 4], [0, 8, 4, 9, 3, 7]]\n",
      "[0, 8, 4, 9, 3, 7]\n"
     ]
    }
   ],
   "source": [
    "# on multidimensional lists\n",
    "l = []\n",
    "ll = []\n",
    "print(ll)\n",
    "l.append(0)\n",
    "l.append(8)\n",
    "l.append(4)\n",
    "ll.append(l.copy())    # without copy(), the reference will be placed, which is not immutable to future changes in l\n",
    "print(ll)\n",
    "# print(max(l))\n",
    "\n",
    "l.append(9)\n",
    "l.append(3)\n",
    "l.append(7)\n",
    "ll.append(l.copy())\n",
    "print(ll)\n",
    "print(ll[1])"
   ]
  },
  {
   "cell_type": "code",
   "execution_count": 8,
   "metadata": {},
   "outputs": [
    {
     "name": "stdout",
     "output_type": "stream",
     "text": [
      "('a', 'b', 'c', 'd')\n",
      "a\n",
      "10\n",
      "3\n"
     ]
    }
   ],
   "source": [
    "# on tuples\n",
    "\n",
    "import numpy as np\n",
    "\n",
    "tup3 = \"a\", \"b\", \"c\", \"d\"\n",
    "print(tup3)\n",
    "print(tup3[0])\n",
    "data = np.zeros((10, 20, 3), dtype=np.uint8)\n",
    "data_shape = data.shape\n",
    "print(data_shape[0])\n",
    "print(len(data_shape))"
   ]
  },
  {
   "cell_type": "code",
   "execution_count": 6,
   "metadata": {},
   "outputs": [
    {
     "name": "stdout",
     "output_type": "stream",
     "text": [
      "(4, 3)\n",
      "[12 13 14]\n",
      "[ 0  6  6 27]\n",
      "[ 0  6  6 27]\n"
     ]
    }
   ],
   "source": [
    "# on numpy array axis\n",
    "\n",
    "import numpy as np\n",
    "x = np.array([[0, 0, 0],\n",
    "       [1, 2, 3],\n",
    "       [2, 2, 2],\n",
    "       [9, 9, 9]])\n",
    "print(x.shape)\n",
    "print(x.sum(axis=0))\n",
    "print(x.sum(axis=1))    # same as -1\n",
    "print(x.sum(axis=-1))   # the last axis"
   ]
  }
 ],
 "metadata": {
  "kernelspec": {
   "display_name": "Python 3",
   "language": "python",
   "name": "python3"
  },
  "language_info": {
   "codemirror_mode": {
    "name": "ipython",
    "version": 3
   },
   "file_extension": ".py",
   "mimetype": "text/x-python",
   "name": "python",
   "nbconvert_exporter": "python",
   "pygments_lexer": "ipython3",
   "version": "3.5.6"
  }
 },
 "nbformat": 4,
 "nbformat_minor": 2
}
