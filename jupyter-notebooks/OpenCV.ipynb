{
 "cells": [
  {
   "cell_type": "code",
   "execution_count": 2,
   "metadata": {},
   "outputs": [],
   "source": [
    "# on OpenCV image read, flip, show\n",
    "import cv2\n",
    "img = cv2.imread('/home/himanshu/Pictures/1.jpg')\n",
    "# cv2.imshow(\"Image 1\", img)\n",
    "img_flipped = cv2.flip( img, 1 )    # 0 : vertical flip, 1 : horizontal, -1 : vertical + horizontal\n",
    "cv2.imshow(\"Image 1\", img)\n",
    "cv2.imshow(\"Image 2\", img_flipped)\n",
    "cv2.waitKey(0)\n",
    "cv2.destroyAllWindows()    # without this jupyter notebook will crash"
   ]
  }
 ],
 "metadata": {
  "kernelspec": {
   "display_name": "Python 3",
   "language": "python",
   "name": "python3"
  },
  "language_info": {
   "codemirror_mode": {
    "name": "ipython",
    "version": 3
   },
   "file_extension": ".py",
   "mimetype": "text/x-python",
   "name": "python",
   "nbconvert_exporter": "python",
   "pygments_lexer": "ipython3",
   "version": "3.5.6"
  }
 },
 "nbformat": 4,
 "nbformat_minor": 2
}
